{
 "cells": [
  {
   "cell_type": "markdown",
   "metadata": {},
   "source": [
    "**Step-1:**\n",
    "Lets Import the numpy!!"
   ]
  },
  {
   "cell_type": "code",
   "execution_count": 755,
   "metadata": {},
   "outputs": [],
   "source": [
    "import numpy as np"
   ]
  },
  {
   "cell_type": "markdown",
   "metadata": {},
   "source": [
    "**Step-2:**\n",
    "Layers Need!!"
   ]
  },
  {
   "cell_type": "code",
   "execution_count": 756,
   "metadata": {},
   "outputs": [],
   "source": [
    "#lets make 2 input layers, 5 dense layer and 1 output layer\n",
    "\n",
    "input_layer=2\n",
    "dense_layers=5\n",
    "ouput_layers=1\n"
   ]
  },
  {
   "cell_type": "markdown",
   "metadata": {},
   "source": [
    "**Step-3:** Give The Weights And Bias To The Layers"
   ]
  },
  {
   "cell_type": "markdown",
   "metadata": {},
   "source": [
    "We Basically Need 2 Weights and 2 Bias. One is for input layer (Helps For Forward propagation) and another one is for output layer (Helps For backward propagation)"
   ]
  },
  {
   "cell_type": "code",
   "execution_count": 757,
   "metadata": {},
   "outputs": [],
   "source": [
    "#weights giving randomly from input layers to dense layers (Forward)\n",
    "weight_input_dense= np.random.uniform(size=(input_layer,dense_layers))\n",
    "\n",
    "\n",
    "#weights giving randomly from output layers to dense layers (backward)\n",
    "weight_output_dense= np.random.uniform(size=(ouput_layers,dense_layers))"
   ]
  },
  {
   "cell_type": "code",
   "execution_count": 758,
   "metadata": {},
   "outputs": [],
   "source": [
    "#Bias for dense\n",
    "weight_output_dense = np.random.uniform(size=(5, 1)) \n",
    "\n",
    "\n",
    "#Bias for output\n",
    "Bias_output = np.random.uniform(size=(1, 1)) "
   ]
  },
  {
   "cell_type": "markdown",
   "metadata": {},
   "source": [
    "After Initializing the random weights and bias to the layers"
   ]
  },
  {
   "cell_type": "markdown",
   "metadata": {},
   "source": [
    "**Step-4:**"
   ]
  },
  {
   "cell_type": "markdown",
   "metadata": {},
   "source": [
    "Create the activation Functions"
   ]
  },
  {
   "cell_type": "code",
   "execution_count": 759,
   "metadata": {},
   "outputs": [],
   "source": [
    "# Sigmoid Activation Function\n",
    "def sigmoid(x):\n",
    "    return 1 / ( 1 + np.exp(-x) )\n",
    "\n",
    "# tanh Activation Function\n",
    "def tanh(x):\n",
    "    return 2/( 1 + np.exp(2*x) - 1 )\n",
    "\n",
    "# relu Activation Function\n",
    "def relu(x):\n",
    "    return np.maximum(0,x)\n",
    "\n",
    "# softmax Activation Function\n",
    "def soft_max(x):\n",
    "    ex = np.exp(x - np.max(x))\n",
    "    return ex / ex.sum(axis=0)\n",
    "\n",
    "# PReLu Activation Function\n",
    "def PReLu(x, alpha=0.1):\n",
    "    return np.where(x > 0, x, alpha * x)\n",
    "\n",
    "# Elu Activation Function\n",
    "def Elu(x, alpha=1.0):\n",
    "    return np.where(x>0 ,x ,alpha*(np.exp(x) - 1))\n",
    "\n",
    "# GElu Activation Function\n",
    "def gelu(x):\n",
    "    return 0.5 * x * (1 + np.tanh(np.sqrt(2 / np.pi) * (x + 0.044715 * x ** 3)))\n",
    "\n",
    "# Swish Activation Function\n",
    "def swish(x):\n",
    "    return x / (1 + np.exp(-x))\n",
    "\n",
    "# SElu Activation Function\n",
    "def SElu(x, scale=1.6732632423543772, alpha=1.0507009873554805):\n",
    "    return scale * np.where(x > 0, x, alpha * (np.exp(x) - 1))\n",
    "\n",
    "# SoftPlus Activation Function\n",
    "def Soft_plus(x):\n",
    "    return np.log(1 + np.exp(x))\n",
    "\n",
    "# Mish Activation Function\n",
    "def Mish(x):\n",
    "    return x * np.tanh( np.log1p(np.exp(x)))\n",
    "\n",
    "# Hard Swish Activation Function\n",
    "def Hard_Swish(x):\n",
    "    return x * np.clip((x + 3) / 6, 0, 1)\n",
    "\n",
    "# Hard tanh Activation Function\n",
    "def Hard_tanh(x):\n",
    "    return np.clip(x, -1, 1)\n",
    "\n",
    "# Hard Softmax Activation Function\n",
    "def Hard_Softmax(x):\n",
    "    ex = np.exp(x - np.max(x))  # This is for numerical stability!!BTW\n",
    "    return (ex / ex.sum(axis=0)).clip(0, 1)\n",
    "\n",
    "# Hard Sigmoid Activation Function\n",
    "def Hard_Sigmoid(x):\n",
    "    return np.clip((x + 1) / 2, 0, 1)\n",
    "\n",
    "# tanh Shrink Activation Function\n",
    "def tanh_Shrink(x):\n",
    "    return x - np.tanh(x)\n",
    "\n",
    "# Hard Shrink Activation Function\n",
    "def Hard_Shrink(x, lambd=0.5):\n",
    "    return np.where(np.abs(x) < lambd, 0, x)\n",
    "\n",
    "# Soft Shrink  Activation Function\n",
    "def Soft_Shrink(x,lambd=0.5):\n",
    "    return np.where(x > lambd, x - lambd, np.where(x < -lambd, x + lambd, 0))"
   ]
  },
  {
   "cell_type": "markdown",
   "metadata": {},
   "source": [
    "**Step-5:** Forward Propagation (input layer to output layer)"
   ]
  },
  {
   "cell_type": "code",
   "execution_count": 760,
   "metadata": {},
   "outputs": [],
   "source": [
    "def forward_propagation(input_data):\n",
    "\n",
    "    #for dense layer\n",
    "    z_dense=np.dot(input_data,weight_input_dense)+Bias_dense #Here dot is helps to calculate the sum of products of the vectors\n",
    "    a_dense=sigmoid(z_dense) #Applying the Activation Function To The Dense Layer\n",
    "\n",
    "    #for an output layer \n",
    "    z_output=np.dot(a_dense,weight_output_dense)+Bias_output\n",
    "    output=sigmoid(z_output) #Applying Activation Function To the output (Output maybe in between o to 1 in this case)\n",
    "\n",
    "    return a_dense,output"
   ]
  },
  {
   "cell_type": "markdown",
   "metadata": {},
   "source": [
    "**Step-6:**\n",
    "Lets Make Loss Functions"
   ]
  },
  {
   "cell_type": "code",
   "execution_count": 761,
   "metadata": {},
   "outputs": [],
   "source": [
    "# Mean Bias Error\n",
    "def mean_bias_error(y_true, y_pred):\n",
    "    return np.mean(y_pred - y_true)\n",
    "\n",
    "# Mean Absolute Error\n",
    "def mean_absolute_error(y_true, y_pred):\n",
    "    return np.mean(np.abs(y_pred - y_true))\n",
    "\n",
    "# Mean Squared Error\n",
    "def mean_squared_error(y_true, y_pred):\n",
    "    return np.mean((y_pred - y_true) ** 2)\n",
    "\n",
    "# Root Mean Squared Error\n",
    "def root_mean_squared_error(y_true, y_pred):\n",
    "    return np.sqrt(mean_squared_error(y_true, y_pred))\n",
    "\n",
    "# Huber Loss\n",
    "def huber_loss(y_true, y_pred, delta=1.0):\n",
    "    error = y_pred - y_true\n",
    "    is_small_error = np.abs(error) <= delta\n",
    "    squared_loss = 0.5 * error ** 2\n",
    "    linear_loss = delta * (np.abs(error) - 0.5 * delta)\n",
    "    return np.mean(np.where(is_small_error, squared_loss, linear_loss))\n",
    "\n",
    "# Log Cosh Loss\n",
    "def log_cosh_loss(y_true, y_pred):\n",
    "    return np.mean(np.log(np.cosh(y_pred - y_true)))\n",
    "\n",
    "# Binary Cross-Entropy (BCE)\n",
    "def binary_cross_entropy(y_true, y_pred):\n",
    "    epsilon = 1e-15  # To avoid log(0)\n",
    "    y_pred = np.clip(y_pred, epsilon, 1 - epsilon)  # Clip predictions\n",
    "    return -np.mean(y_true * np.log(y_pred) + (1 - y_true) * np.log(1 - y_pred))\n",
    "\n",
    "# Hinge Loss\n",
    "def hinge_loss(y_true, y_pred):\n",
    "    return np.mean(np.maximum(0, 1 - y_true * y_pred))\n",
    "\n",
    "# Cross-Entropy Loss\n",
    "def cross_entropy_loss(y_true, y_pred):\n",
    "    epsilon = 1e-15  # To avoid log(0)\n",
    "    y_pred = np.clip(y_pred, epsilon, 1 - epsilon)  # Clip predictions\n",
    "    return -np.mean(np.sum(y_true * np.log(y_pred), axis=1))\n",
    "\n",
    "# Kullback-Leibler Divergence\n",
    "def kl_divergence(y_true, y_pred):\n",
    "    epsilon = 1e-15  # To avoid log(0)\n",
    "    y_pred = np.clip(y_pred, epsilon, None)  # Clip predictions to avoid division by zero\n",
    "    return np.mean(np.sum(y_true * np.log(y_true / y_pred), axis=1))"
   ]
  },
  {
   "cell_type": "markdown",
   "metadata": {},
   "source": [
    "**Activation For Back Propagaton**"
   ]
  },
  {
   "cell_type": "code",
   "execution_count": 762,
   "metadata": {},
   "outputs": [],
   "source": [
    "# Sigmoid derivative \n",
    "def sigmoid_derivative(x):\n",
    "    return x * (1 - x)"
   ]
  },
  {
   "cell_type": "markdown",
   "metadata": {},
   "source": [
    "**Step-7:** Back Propagation"
   ]
  },
  {
   "cell_type": "code",
   "execution_count": 763,
   "metadata": {},
   "outputs": [],
   "source": [
    "# Backpropagation\n",
    "def backpropagation(input_data, a_dense, output, y_true, learning_rate=0.1):\n",
    "    global weight_input_dense, weight_output_dense, Bias_dense, Bias_output\n",
    "    \n",
    "\n",
    "    # Output layer error and delta\n",
    "    output_error = y_true - output  # Error at output layer\n",
    "    delta_output = output_error * sigmoid_derivative(output)  # Delta at output layer\n",
    "    \n",
    "\n",
    "    # Hidden layer error and delta\n",
    "    dense_error = delta_output.dot(weight_output_dense.T)  # Error at hidden layer\n",
    "    delta_dense = dense_error * sigmoid_derivative(a_dense)  # Delta at hidden layer\n",
    "    \n",
    "\n",
    "    # Update weights and biases (gradient descent)\n",
    "    weight_output_dense += a_dense.T.dot(delta_output) * learning_rate\n",
    "    weight_input_dense += input_data.T.dot(delta_dense) * learning_rate\n",
    "\n",
    "    Bias_output += np.sum(delta_output, axis=0, keepdims=True) * learning_rate\n",
    "    Bias_dense += np.sum(delta_dense, axis=0, keepdims=True) * learning_rate"
   ]
  },
  {
   "cell_type": "markdown",
   "metadata": {},
   "source": [
    "*/Lets Test The Model/*"
   ]
  },
  {
   "cell_type": "code",
   "execution_count": 764,
   "metadata": {},
   "outputs": [
    {
     "name": "stdout",
     "output_type": "stream",
     "text": [
      "Epoch 0, Loss: 0.6444, Accuracy: 0.2500\n"
     ]
    }
   ],
   "source": [
    "#for example lets take AND operation\n",
    "input_data = np.array([[0, 0], [0, 1], [1, 0], [1, 1]])\n",
    "output_data = np.array([[0],[0],[0],[1]])\n",
    "\n",
    "loss_history = []\n",
    "accuracy_history = []\n",
    "\n",
    "#epochs\n",
    "epochs=1000\n",
    "learning_rate=0.1\n",
    "for epoch in range(epochs):\n",
    "\n",
    "    a_dense, output=forward_propagation(input_data) #forward propagation\n",
    "\n",
    "    loss=mean_squared_error(output_data,output) #loss calculation\n",
    "\n",
    "    backpropagation(input_data,a_dense,output,output_data,learning_rate)\n",
    "\n",
    "    accuracy = calculate_accuracy(output, output_data)  # Calculate accuracy\n",
    "    accuracy_history.append(accuracy)  # Store accuracy\n",
    "\n",
    "    if epoch % 1000 == 0:\n",
    "        print(f'Epoch {epoch}, Loss: {loss:.4f}, Accuracy: {accuracy:.4f}')"
   ]
  },
  {
   "cell_type": "code",
   "execution_count": 765,
   "metadata": {},
   "outputs": [],
   "source": [
    "import matplotlib.pyplot as plt"
   ]
  },
  {
   "cell_type": "code",
   "execution_count": 766,
   "metadata": {},
   "outputs": [
    {
     "data": {
      "image/png": "[encoded data removed]",
      "text/plain": [
       "<Figure size 640x480 with 2 Axes>"
      ]
     },
     "metadata": {},
     "output_type": "display_data"
    }
   ],
   "source": [
    "# Loss Plot\n",
    "plt.subplot(1, 2, 1)\n",
    "plt.plot(loss_history, label='Loss')\n",
    "plt.title('Loss Over Epochs')\n",
    "plt.xlabel('Epochs')\n",
    "plt.ylabel('Loss')\n",
    "plt.legend()\n",
    "\n",
    "# Accuracy Plot\n",
    "plt.subplot(1, 2, 2)\n",
    "plt.plot(accuracy_history, label='Accuracy', color='orange')\n",
    "plt.title('Accuracy Over Epochs')\n",
    "plt.xlabel('Epochs')\n",
    "plt.ylabel('Accuracy')\n",
    "plt.legend()\n",
    "\n",
    "plt.tight_layout()\n",
    "plt.show()"
   ]
  }
 ],
 "metadata": {
  "kernelspec": {
   "display_name": "Python 3",
   "language": "python",
   "name": "python3"
  },
  "language_info": {
   "codemirror_mode": {
    "name": "ipython",
    "version": 3
   },
   "file_extension": ".py",
   "mimetype": "text/x-python",
   "name": "python",
   "nbconvert_exporter": "python",
   "pygments_lexer": "ipython3",
   "version": "3.12.6"
  }
 },
 "nbformat": 4,
 "nbformat_minor": 2
}
